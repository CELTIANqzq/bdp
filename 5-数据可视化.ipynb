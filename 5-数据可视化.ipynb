{
 "cells": [
  {
   "cell_type": "code",
   "execution_count": 1,
   "metadata": {},
   "outputs": [],
   "source": [
    "import pandas as pd\n",
    "data = pd.read_csv(\"/Users/zhaozihao/Desktop/简洁.csv\")"
   ]
  },
  {
   "cell_type": "code",
   "execution_count": 2,
   "metadata": {},
   "outputs": [
    {
     "name": "stdout",
     "output_type": "stream",
     "text": [
      "<class 'pandas.core.frame.DataFrame'>\n",
      "RangeIndex: 9932 entries, 0 to 9931\n",
      "Data columns (total 12 columns):\n",
      " #   Column              Non-Null Count  Dtype  \n",
      "---  ------              --------------  -----  \n",
      " 0   bookID              9932 non-null   int64  \n",
      " 1   title               9932 non-null   object \n",
      " 2   authors             9932 non-null   object \n",
      " 3   average_rating      9932 non-null   float64\n",
      " 4   isbn                9932 non-null   object \n",
      " 5   isbn13              9932 non-null   float64\n",
      " 6   language_code       9932 non-null   object \n",
      " 7   num_pages           9932 non-null   int64  \n",
      " 8   ratings_count       9932 non-null   int64  \n",
      " 9   text_reviews_count  9932 non-null   int64  \n",
      " 10  year                9932 non-null   int64  \n",
      " 11  publisher           9932 non-null   object \n",
      "dtypes: float64(2), int64(5), object(5)\n",
      "memory usage: 931.2+ KB\n"
     ]
    }
   ],
   "source": [
    "data.info()"
   ]
  },
  {
   "cell_type": "code",
   "execution_count": 3,
   "metadata": {},
   "outputs": [
    {
     "data": {
      "text/plain": [
       "2006    1501\n",
       "2005    1123\n",
       "2004     960\n",
       "2003     823\n",
       "2002     741\n",
       "        ... \n",
       "1922       1\n",
       "1948       1\n",
       "1940       1\n",
       "1900       1\n",
       "1928       1\n",
       "Name: year, Length: 85, dtype: int64"
      ]
     },
     "execution_count": 3,
     "metadata": {},
     "output_type": "execute_result"
    }
   ],
   "source": [
    "data.year.value_counts()"
   ]
  },
  {
   "cell_type": "code",
   "execution_count": 12,
   "metadata": {},
   "outputs": [
    {
     "data": {
      "image/png": "[encoded data removed]",
      "text/plain": [
       "<Figure size 432x288 with 1 Axes>"
      ]
     },
     "metadata": {
      "needs_background": "light"
     },
     "output_type": "display_data"
    }
   ],
   "source": [
    "# 将单变量年份和打分情况做对数图\n",
    "# 对数图，实际上就是使用对数坐标绘制的图形。对于对数刻度来说，其间隔表示的是变量的值在数量级上的变化，这与线性刻度有很大的不同\n",
    "import matplotlib.pyplot as plt\n",
    "import numpy as np\n",
    "import pandas as pd\n",
    "df=pd.read_csv('/Users/zhaozihao/Desktop/简洁.csv')\n",
    "df=df.groupby('year').aggregate(np.mean)  #按年份分组，以数量均值聚合\n",
    "\n",
    "years=df.index.values  #得到所有年份信息\n",
    "counts=df['average_rating'].values\n",
    "\n",
    "poly=np.polyfit(years,np.log(counts),deg=1)  #线性拟合数据\n",
    "\n",
    "plt.xlabel('年份',fontsize=15)\n",
    "plt.ylabel('打分情况',fontsize=15)\n",
    "plt.semilogy(years,counts,'o')\n",
    "#polyval用于对多项式进行评估，可以生成一条拟合的直线\n",
    "# plt.semilogy(years,np.exp(np.polyval(poly,years)))  \n",
    "plt.show()"
   ]
  }
 ],
 "metadata": {
  "kernelspec": {
   "display_name": "Python 3",
   "language": "python",
   "name": "python3"
  },
  "language_info": {
   "codemirror_mode": {
    "name": "ipython",
    "version": 3
   },
   "file_extension": ".py",
   "mimetype": "text/x-python",
   "name": "python",
   "nbconvert_exporter": "python",
   "pygments_lexer": "ipython3",
   "version": "3.7.7"
  }
 },
 "nbformat": 4,
 "nbformat_minor": 4
}
